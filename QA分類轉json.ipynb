{
 "cells": [
  {
   "cell_type": "code",
   "execution_count": 6,
   "metadata": {},
   "outputs": [
    {
     "name": "stdout",
     "output_type": "stream",
     "text": [
      "Collecting openpyxl\n",
      "  Downloading openpyxl-3.1.2-py2.py3-none-any.whl (249 kB)\n",
      "\u001b[2K     \u001b[90m━━━━━━━━━━━━━━━━━━━━━━━━━━━━━━━━━━━━━━━\u001b[0m \u001b[32m250.0/250.0 kB\u001b[0m \u001b[31m1.2 MB/s\u001b[0m eta \u001b[36m0:00:00\u001b[0m00:01\u001b[0m00:01\u001b[0m\n",
      "\u001b[?25hCollecting et-xmlfile (from openpyxl)\n",
      "  Downloading et_xmlfile-1.1.0-py3-none-any.whl (4.7 kB)\n",
      "Installing collected packages: et-xmlfile, openpyxl\n",
      "Successfully installed et-xmlfile-1.1.0 openpyxl-3.1.2\n",
      "Note: you may need to restart the kernel to use updated packages.\n"
     ]
    }
   ],
   "source": [
    "pip install openpyxl"
   ]
  },
  {
   "cell_type": "code",
   "execution_count": 7,
   "metadata": {},
   "outputs": [],
   "source": [
    "import pandas as pd"
   ]
  },
  {
   "cell_type": "code",
   "execution_count": 8,
   "metadata": {},
   "outputs": [],
   "source": [
    "df = pd.read_excel('正式問題分類final拷貝.xlsx')"
   ]
  },
  {
   "cell_type": "code",
   "execution_count": 12,
   "metadata": {},
   "outputs": [
    {
     "data": {
      "text/html": [
       "<div>\n",
       "<style scoped>\n",
       "    .dataframe tbody tr th:only-of-type {\n",
       "        vertical-align: middle;\n",
       "    }\n",
       "\n",
       "    .dataframe tbody tr th {\n",
       "        vertical-align: top;\n",
       "    }\n",
       "\n",
       "    .dataframe thead th {\n",
       "        text-align: right;\n",
       "    }\n",
       "</style>\n",
       "<table border=\"1\" class=\"dataframe\">\n",
       "  <thead>\n",
       "    <tr style=\"text-align: right;\">\n",
       "      <th></th>\n",
       "      <th>問題</th>\n",
       "      <th>類別</th>\n",
       "      <th>網址</th>\n",
       "      <th>答案</th>\n",
       "    </tr>\n",
       "  </thead>\n",
       "  <tbody>\n",
       "    <tr>\n",
       "      <th>0</th>\n",
       "      <td>基北北桃都會通Q&amp;A</td>\n",
       "      <td>交通設施服務</td>\n",
       "      <td>https://www.dot.gov.taipei/News_Content.aspx?n...</td>\n",
       "      <td>基北北桃都會通使用須知(附件1)及常見問答(附件2)，臺北大眾捷運公司已公告相關訊息於官方網...</td>\n",
       "    </tr>\n",
       "    <tr>\n",
       "      <th>1</th>\n",
       "      <td>陽明山區下雪交通管制計畫內容為何</td>\n",
       "      <td>交通設施服務</td>\n",
       "      <td>https://www.dot.gov.taipei/News_Content.aspx?n...</td>\n",
       "      <td>一、目的：為維護陽明山區下雪預報及下雪時期交通安全與流暢，並防止發生交通事故及意外事件，確保...</td>\n",
       "    </tr>\n",
       "    <tr>\n",
       "      <th>2</th>\n",
       "      <td>共享機車久占停車格該如何處理？</td>\n",
       "      <td>交通設施服務</td>\n",
       "      <td>https://www.dot.gov.taipei/News_Content.aspx?n...</td>\n",
       "      <td>一、本市推動共享運具服務是希望透過一輛車多人使用，逐步改變市民用車習慣，降低私有運具使用。為...</td>\n",
       "    </tr>\n",
       "    <tr>\n",
       "      <th>3</th>\n",
       "      <td>oBike無樁式共享單車說明</td>\n",
       "      <td>交通設施服務</td>\n",
       "      <td>https://www.dot.gov.taipei/News_Content.aspx?n...</td>\n",
       "      <td>oBike無樁式共享單車前係由台灣奧致網絡科技有限公司自行經營，非由市府提供及營運。另經查詢...</td>\n",
       "    </tr>\n",
       "    <tr>\n",
       "      <th>4</th>\n",
       "      <td>微型電動二輪車常見問答</td>\n",
       "      <td>交通設施服務</td>\n",
       "      <td>https://www.dot.gov.taipei/News_Content.aspx?n...</td>\n",
       "      <td>Q1：微型電動二輪車，要掛牌才可行駛道路，如何申請牌照，是否有詢問電話?A：請逕向交通部公路...</td>\n",
       "    </tr>\n",
       "    <tr>\n",
       "      <th>...</th>\n",
       "      <td>...</td>\n",
       "      <td>...</td>\n",
       "      <td>...</td>\n",
       "      <td>...</td>\n",
       "    </tr>\n",
       "    <tr>\n",
       "      <th>4852</th>\n",
       "      <td>聯合開發&gt;捷運用地土地開發案中，主管機關如何進行權益分配？</td>\n",
       "      <td>政府組織職責</td>\n",
       "      <td>https://www.dorts.gov.taipei/News_toggle.aspx?...</td>\n",
       "      <td>（一）依據93年5月12日修正後之「大眾捷運法第7條」、本府104年9月14日修正後之「臺北...</td>\n",
       "    </tr>\n",
       "    <tr>\n",
       "      <th>4853</th>\n",
       "      <td>聯合開發&gt;捷運用地土地開發案中，地主間如何進行權益分配？⼟地開發建物之區位及坪數怎麼分配的？</td>\n",
       "      <td>政府組織職責</td>\n",
       "      <td>https://www.dorts.gov.taipei/News_toggle.aspx?...</td>\n",
       "      <td>（一）依據93年5月12日修正後之「大眾捷運法第7條」、本府104年9月14日修正後之「臺北...</td>\n",
       "    </tr>\n",
       "    <tr>\n",
       "      <th>4854</th>\n",
       "      <td>聯合開發&gt;捷運用地土地開發案中，地主與投資人間如何進行權益分配？</td>\n",
       "      <td>政府組織職責</td>\n",
       "      <td>https://www.dorts.gov.taipei/News_toggle.aspx?...</td>\n",
       "      <td>（一）依據93年5月12日修正後之「大眾捷運法第7條」、本府104年9月14日修正後之「臺北...</td>\n",
       "    </tr>\n",
       "    <tr>\n",
       "      <th>4855</th>\n",
       "      <td>聯合開發&gt;設計土地開發大樓時地主是不是可以參與並提出意見？</td>\n",
       "      <td>城市建設規劃</td>\n",
       "      <td>https://www.dorts.gov.taipei/News_toggle.aspx?...</td>\n",
       "      <td>（一）由捷運局辦理土地開發相關設計，於設計過程中地主如有任何意見均可提供捷運局參考。（二）由...</td>\n",
       "    </tr>\n",
       "    <tr>\n",
       "      <th>4856</th>\n",
       "      <td>聯合開發&gt;擁有店面之地主參加土地開發，是不是可以優先分配店面？</td>\n",
       "      <td>政府組織職責</td>\n",
       "      <td>https://www.dorts.gov.taipei/News_toggle.aspx?...</td>\n",
       "      <td>開發內容應優先滿足捷運設施需求，由於土地聯合開發係配合捷運建設興闢之物業開發行為，係以地主之...</td>\n",
       "    </tr>\n",
       "  </tbody>\n",
       "</table>\n",
       "<p>4857 rows × 4 columns</p>\n",
       "</div>"
      ],
      "text/plain": [
       "                                                  問題      類別  \\\n",
       "0                                         基北北桃都會通Q&A  交通設施服務   \n",
       "1                                   陽明山區下雪交通管制計畫內容為何  交通設施服務   \n",
       "2                                    共享機車久占停車格該如何處理？  交通設施服務   \n",
       "3                                     oBike無樁式共享單車說明  交通設施服務   \n",
       "4                                        微型電動二輪車常見問答  交通設施服務   \n",
       "...                                              ...     ...   \n",
       "4852                   聯合開發>捷運用地土地開發案中，主管機關如何進行權益分配？  政府組織職責   \n",
       "4853  聯合開發>捷運用地土地開發案中，地主間如何進行權益分配？⼟地開發建物之區位及坪數怎麼分配的？  政府組織職責   \n",
       "4854                聯合開發>捷運用地土地開發案中，地主與投資人間如何進行權益分配？  政府組織職責   \n",
       "4855                   聯合開發>設計土地開發大樓時地主是不是可以參與並提出意見？  城市建設規劃   \n",
       "4856                 聯合開發>擁有店面之地主參加土地開發，是不是可以優先分配店面？  政府組織職責   \n",
       "\n",
       "                                                     網址  \\\n",
       "0     https://www.dot.gov.taipei/News_Content.aspx?n...   \n",
       "1     https://www.dot.gov.taipei/News_Content.aspx?n...   \n",
       "2     https://www.dot.gov.taipei/News_Content.aspx?n...   \n",
       "3     https://www.dot.gov.taipei/News_Content.aspx?n...   \n",
       "4     https://www.dot.gov.taipei/News_Content.aspx?n...   \n",
       "...                                                 ...   \n",
       "4852  https://www.dorts.gov.taipei/News_toggle.aspx?...   \n",
       "4853  https://www.dorts.gov.taipei/News_toggle.aspx?...   \n",
       "4854  https://www.dorts.gov.taipei/News_toggle.aspx?...   \n",
       "4855  https://www.dorts.gov.taipei/News_toggle.aspx?...   \n",
       "4856  https://www.dorts.gov.taipei/News_toggle.aspx?...   \n",
       "\n",
       "                                                     答案  \n",
       "0     基北北桃都會通使用須知(附件1)及常見問答(附件2)，臺北大眾捷運公司已公告相關訊息於官方網...  \n",
       "1     一、目的：為維護陽明山區下雪預報及下雪時期交通安全與流暢，並防止發生交通事故及意外事件，確保...  \n",
       "2     一、本市推動共享運具服務是希望透過一輛車多人使用，逐步改變市民用車習慣，降低私有運具使用。為...  \n",
       "3     oBike無樁式共享單車前係由台灣奧致網絡科技有限公司自行經營，非由市府提供及營運。另經查詢...  \n",
       "4     Q1：微型電動二輪車，要掛牌才可行駛道路，如何申請牌照，是否有詢問電話?A：請逕向交通部公路...  \n",
       "...                                                 ...  \n",
       "4852  （一）依據93年5月12日修正後之「大眾捷運法第7條」、本府104年9月14日修正後之「臺北...  \n",
       "4853  （一）依據93年5月12日修正後之「大眾捷運法第7條」、本府104年9月14日修正後之「臺北...  \n",
       "4854  （一）依據93年5月12日修正後之「大眾捷運法第7條」、本府104年9月14日修正後之「臺北...  \n",
       "4855  （一）由捷運局辦理土地開發相關設計，於設計過程中地主如有任何意見均可提供捷運局參考。（二）由...  \n",
       "4856  開發內容應優先滿足捷運設施需求，由於土地聯合開發係配合捷運建設興闢之物業開發行為，係以地主之...  \n",
       "\n",
       "[4857 rows x 4 columns]"
      ]
     },
     "execution_count": 12,
     "metadata": {},
     "output_type": "execute_result"
    }
   ],
   "source": [
    "df"
   ]
  },
  {
   "cell_type": "code",
   "execution_count": 14,
   "metadata": {},
   "outputs": [],
   "source": [
    "import json"
   ]
  },
  {
   "cell_type": "code",
   "execution_count": 15,
   "metadata": {},
   "outputs": [],
   "source": [
    "json_data = df.to_json(orient='records', lines=True, force_ascii=False)\n",
    "with open('QA classification.json', 'w', encoding='utf-8') as json_file:\n",
    "    json_file.write(json_data)"
   ]
  },
  {
   "cell_type": "code",
   "execution_count": 11,
   "metadata": {},
   "outputs": [],
   "source": []
  },
  {
   "cell_type": "code",
   "execution_count": null,
   "metadata": {},
   "outputs": [],
   "source": []
  }
 ],
 "metadata": {
  "kernelspec": {
   "display_name": "test",
   "language": "python",
   "name": "python3"
  },
  "language_info": {
   "codemirror_mode": {
    "name": "ipython",
    "version": 3
   },
   "file_extension": ".py",
   "mimetype": "text/x-python",
   "name": "python",
   "nbconvert_exporter": "python",
   "pygments_lexer": "ipython3",
   "version": "3.12.0"
  }
 },
 "nbformat": 4,
 "nbformat_minor": 2
}
