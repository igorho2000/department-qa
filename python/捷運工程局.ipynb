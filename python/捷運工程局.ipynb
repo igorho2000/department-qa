{
 "cells": [
  {
   "cell_type": "code",
   "execution_count": 150,
   "metadata": {},
   "outputs": [],
   "source": [
    "import requests\n",
    "from bs4 import BeautifulSoup\n",
    "import csv\n",
    "from datetime import datetime\n",
    "import pandas as pd\n",
    "import re"
   ]
  },
  {
   "cell_type": "code",
   "execution_count": 151,
   "metadata": {},
   "outputs": [],
   "source": [
    "url = 'https://www.dorts.gov.taipei/News_toggle.aspx?n=2A66A485FACB0D5B&sms=87415A8B9CE81B16&PageSize=400'\n",
    "response = requests.get(url)\n",
    "soup = BeautifulSoup(response.text, 'html.parser')\n",
    "df_result= pd.DataFrame(columns=['Time', 'Url', 'Question', 'Answer', '點閱數', '資料更新', '資料檢視', '資料維護'])"
   ]
  },
  {
   "cell_type": "code",
   "execution_count": 164,
   "metadata": {},
   "outputs": [
    {
     "name": "stderr",
     "output_type": "stream",
     "text": [
      "/var/folders/7t/x585800j10v6hqth9nt23qp80000gn/T/ipykernel_50899/1773161239.py:34: DeprecationWarning: The 'text' argument to find()-type methods is deprecated. Use 'string' instead.\n",
      "  data_review_elements = soup.find_all('li', text=pattern)\n",
      "/var/folders/7t/x585800j10v6hqth9nt23qp80000gn/T/ipykernel_50899/1773161239.py:42: DeprecationWarning: The 'text' argument to find()-type methods is deprecated. Use 'string' instead.\n",
      "  data_maintenance_elements = soup.find_all('li', text=pattern)\n"
     ]
    }
   ],
   "source": [
    "question_list = []\n",
    "answer_list = []\n",
    "current_time_list = []\n",
    "\n",
    "x = 177\n",
    "for index in range(1, x + 1):\n",
    "    QA_items = soup.find_all('li', {'data-index': str(index)})\n",
    "    \n",
    "\n",
    "    for QA_item in QA_items:\n",
    "        questions = QA_item.find_all('div', class_='div')\n",
    "        current_time = datetime.now().strftime(\"%Y-%m-%d %H:%M:%S\")\n",
    "        answers = QA_item.find_all('div', class_='accordion-body__contents')\n",
    "        \n",
    "        for question in questions:\n",
    "            question_list.append(question['title'])\n",
    "            current_time_list.append(current_time)\n",
    "        \n",
    "        for answer in answers:\n",
    "            answer_list.append(answer.text.strip())\n",
    "    \n",
    "    data_update_list = []\n",
    "    data_update = soup.find_all('div', class_='accordion-footer')\n",
    "    for li in data_update:\n",
    "        data_update_value = li.find('li')\n",
    "        if data_update_value and '資料更新' in data_update_value.text:\n",
    "            update_info = data_update_value.text.strip().replace('資料更新：', '')\n",
    "            data_update_list.append(update_info)\n",
    "\n",
    "    data_review_list = []     \n",
    "    pattern = re.compile(r'資料檢視：')\n",
    "    data_review_elements = soup.find_all('li', text=pattern)\n",
    "    for data_review in data_review_elements:\n",
    "        data_review_value = data_review.text.strip().replace('資料檢視：', '')\n",
    "        data_review_list.append(data_review_value)\n",
    "\n",
    "\n",
    "    data_maintenance_list = []      \n",
    "    pattern = re.compile(r'資料維護：')\n",
    "    data_maintenance_elements = soup.find_all('li', text=pattern)\n",
    "    for data_maintenance in data_maintenance_elements:\n",
    "        data_maintenance_value = data_maintenance.text.strip().replace('資料維護：', '')\n",
    "        data_maintenance_list.append(data_maintenance_value)\n",
    "        \n",
    "df_result['Question'] = question_list\n",
    "df_result['Answer'] = answer_list\n",
    "df_result['Time'] = current_time_list\n",
    "df_result['資料更新'] = data_update_list\n",
    "df_result['資料檢視'] = data_review_list\n",
    "df_result['資料維護'] = data_maintenance_list           "
   ]
  },
  {
   "cell_type": "code",
   "execution_count": 163,
   "metadata": {},
   "outputs": [],
   "source": [
    "df_result.to_csv('捷運工程局QA.csv', index=False)"
   ]
  },
  {
   "cell_type": "code",
   "execution_count": null,
   "metadata": {},
   "outputs": [],
   "source": []
  }
 ],
 "metadata": {
  "kernelspec": {
   "display_name": "Python 3",
   "language": "python",
   "name": "python3"
  },
  "language_info": {
   "codemirror_mode": {
    "name": "ipython",
    "version": 3
   },
   "file_extension": ".py",
   "mimetype": "text/x-python",
   "name": "python",
   "nbconvert_exporter": "python",
   "pygments_lexer": "ipython3",
   "version": "3.12.0"
  }
 },
 "nbformat": 4,
 "nbformat_minor": 2
}
